{
 "cells": [
  {
   "cell_type": "code",
   "execution_count": 100,
   "id": "36e6d594",
   "metadata": {},
   "outputs": [],
   "source": [
    "class stack:\n",
    "    def __init__(self,total_value):\n",
    "        self.stack = []\n",
    "        print(\"stack is :\" , self.stack)\n",
    "        self.limit =total_value\n",
    "        print(\"limit is \" , self.limit)\n",
    "\n",
    "    def push (self):\n",
    "        if len(self.stack) ==self.limit:\n",
    "            print(\"stack is already full\")\n",
    "        else:\n",
    "            for i in range (self.limit- len(self.stack)):\n",
    "                e = input(\"enter the value for stack:\")\n",
    "                self .stack.append(e)\n",
    "                print(\"updated stack\" , self.stack)\n",
    "\n",
    "\n",
    "    def pop(self):\n",
    "        if not self.stack:\n",
    "            print ( \"stack is already empty \")\n",
    "        else:\n",
    "            f = self.stack.pop()\n",
    "            print(\"removed value is f\", f)\n",
    "            print(\"update value is \", self.stack)\n",
    "\n",
    "    def peak(self):\n",
    "        if not self.stack:\n",
    "            print(\"there is no peak value beceause stack is empty\")\n",
    "\n",
    "        else:\n",
    "            print(\"peak value is :\", self.stack[-1])\n",
    "\n",
    "    def isEmpty(self):\n",
    "        if not self.stack :\n",
    "            print(\"stack is empty\")\n",
    "        else:\n",
    "            print(\"Stack size is \", len(self.stack))\n",
    "            print(\"stack is:\", self.stack)\n",
    "\n",
    "    def isFull(self):\n",
    "        if len(self.stack)==self.limit:\n",
    "            print(\"stack is full\")\n",
    "        else:  \n",
    "             print(\"stack size\", len(self.stack)) \n",
    "\n",
    "    def sort(self):\n",
    "        if len(self.stack)>0:\n",
    "           print( \"Ascending order\",sorted(self.stack))\n",
    "           print(\"Desending Order\" , sorted(self.stack,reverse=True))\n",
    "    \n",
    "        \n",
    "\n",
    "        \n",
    "    "
   ]
  },
  {
   "cell_type": "code",
   "execution_count": 101,
   "id": "0ffeda32",
   "metadata": {},
   "outputs": [
    {
     "name": "stdout",
     "output_type": "stream",
     "text": [
      "stack is : []\n",
      "limit is  7\n"
     ]
    }
   ],
   "source": [
    "obj1 = stack(7)"
   ]
  },
  {
   "cell_type": "code",
   "execution_count": 102,
   "id": "c617b376",
   "metadata": {},
   "outputs": [
    {
     "name": "stdout",
     "output_type": "stream",
     "text": [
      "stack is : []\n",
      "limit is  10\n"
     ]
    }
   ],
   "source": [
    "obj2 = stack(10)"
   ]
  },
  {
   "cell_type": "code",
   "execution_count": 103,
   "id": "1d7f5470",
   "metadata": {},
   "outputs": [
    {
     "name": "stdout",
     "output_type": "stream",
     "text": [
      "updated stack ['1']\n",
      "updated stack ['1', '2']\n",
      "updated stack ['1', '2', '3']\n",
      "updated stack ['1', '2', '3', '4']\n",
      "updated stack ['1', '2', '3', '4', '5']\n",
      "updated stack ['1', '2', '3', '4', '5', '6']\n",
      "updated stack ['1', '2', '3', '4', '5', '6', '7']\n"
     ]
    }
   ],
   "source": [
    "obj1.push()"
   ]
  },
  {
   "cell_type": "code",
   "execution_count": 104,
   "id": "2c7a2715",
   "metadata": {},
   "outputs": [
    {
     "name": "stdout",
     "output_type": "stream",
     "text": [
      "stack is already full\n"
     ]
    }
   ],
   "source": [
    "obj1.push()"
   ]
  },
  {
   "cell_type": "code",
   "execution_count": 105,
   "id": "8ae81dd8",
   "metadata": {},
   "outputs": [
    {
     "name": "stdout",
     "output_type": "stream",
     "text": [
      "removed value is f 7\n",
      "update value is  ['1', '2', '3', '4', '5', '6']\n"
     ]
    }
   ],
   "source": [
    "obj1.pop()"
   ]
  },
  {
   "cell_type": "code",
   "execution_count": 106,
   "id": "d59f0131",
   "metadata": {},
   "outputs": [
    {
     "name": "stdout",
     "output_type": "stream",
     "text": [
      "removed value is f 6\n",
      "update value is  ['1', '2', '3', '4', '5']\n"
     ]
    }
   ],
   "source": [
    "obj1.pop()"
   ]
  },
  {
   "cell_type": "code",
   "execution_count": 107,
   "id": "e8e97708",
   "metadata": {},
   "outputs": [
    {
     "name": "stdout",
     "output_type": "stream",
     "text": [
      "removed value is f 5\n",
      "update value is  ['1', '2', '3', '4']\n"
     ]
    }
   ],
   "source": [
    "obj1.pop()\n"
   ]
  },
  {
   "cell_type": "code",
   "execution_count": 108,
   "id": "923321b7",
   "metadata": {},
   "outputs": [
    {
     "name": "stdout",
     "output_type": "stream",
     "text": [
      "updated stack ['1', '2', '3', '4', '1']\n",
      "updated stack ['1', '2', '3', '4', '1', '2']\n",
      "updated stack ['1', '2', '3', '4', '1', '2', '3']\n"
     ]
    }
   ],
   "source": [
    "obj1.push()\n"
   ]
  },
  {
   "cell_type": "code",
   "execution_count": 109,
   "id": "86210ebe",
   "metadata": {},
   "outputs": [
    {
     "name": "stdout",
     "output_type": "stream",
     "text": [
      "peak value is : 3\n"
     ]
    }
   ],
   "source": [
    "obj1.peak()"
   ]
  },
  {
   "cell_type": "code",
   "execution_count": 110,
   "id": "08618339",
   "metadata": {},
   "outputs": [
    {
     "name": "stdout",
     "output_type": "stream",
     "text": [
      "Stack size is  7\n",
      "stack is: ['1', '2', '3', '4', '1', '2', '3']\n"
     ]
    }
   ],
   "source": [
    "obj1.isEmpty()"
   ]
  },
  {
   "cell_type": "code",
   "execution_count": 111,
   "id": "972bd024",
   "metadata": {},
   "outputs": [
    {
     "name": "stdout",
     "output_type": "stream",
     "text": [
      "Ascending order ['1', '1', '2', '2', '3', '3', '4']\n",
      "Desending Order ['4', '3', '3', '2', '2', '1', '1']\n"
     ]
    }
   ],
   "source": [
    "obj1.sort()"
   ]
  },
  {
   "cell_type": "code",
   "execution_count": null,
   "id": "b5532583",
   "metadata": {},
   "outputs": [],
   "source": []
  },
  {
   "cell_type": "code",
   "execution_count": null,
   "id": "6847e8e0",
   "metadata": {},
   "outputs": [],
   "source": []
  }
 ],
 "metadata": {
  "kernelspec": {
   "display_name": "base",
   "language": "python",
   "name": "python3"
  },
  "language_info": {
   "codemirror_mode": {
    "name": "ipython",
    "version": 3
   },
   "file_extension": ".py",
   "mimetype": "text/x-python",
   "name": "python",
   "nbconvert_exporter": "python",
   "pygments_lexer": "ipython3",
   "version": "3.12.7"
  }
 },
 "nbformat": 4,
 "nbformat_minor": 5
}

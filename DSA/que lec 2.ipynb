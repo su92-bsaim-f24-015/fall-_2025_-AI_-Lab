{
 "cells": [
  {
   "cell_type": "code",
   "execution_count": 12,
   "id": "0ca78efe",
   "metadata": {},
   "outputs": [
    {
     "name": "stdout",
     "output_type": "stream",
     "text": [
      "queue []\n",
      "limit of queue 5\n"
     ]
    }
   ],
   "source": [
    "class queue:\n",
    "    def __init__(self,total_value):\n",
    "        self.queue = []\n",
    "        print(\"queue\", self.queue)\n",
    "        self.limit = total_value\n",
    "        print(\"limit of queue\",self.limit)        \n",
    "\n",
    "def enqueue(self):\n",
    "    if len(self.queue) == self.limit:\n",
    "        print(\"queue is already filled there is no space to enter value in it \")\n",
    "    else:\n",
    "        for i in range (self.limit -len(self.queue)):\n",
    "            e = int(input(\"enter value for queue:\"))\n",
    "            self.queue.append(e)        \n",
    "            print(\"updated queue\", self.queue)\n",
    "\n",
    "def dequeue(self):\n",
    "    if not self.queue:\n",
    "        print(\"there is value in queue\")\n",
    "    else:\n",
    "        j =self.queue.pop[0]\n",
    "        int(\"removed value is j\", j)\n",
    "        print(\"update value is \", self.queue)\n",
    "def front():\n",
    "    if not self.queue:\n",
    "        print(\"queue is empty there is no front value\")\n",
    "    else:\n",
    "        print(\"front value o queue is :\") ,self.queue[0]\n",
    "\n",
    "def isFull(self):\n",
    "    if len(self.queue)==self.limit:\n",
    "       print(\"queue is full \")\n",
    "    else:\n",
    "        print(\"queue size\",len(self.queue))\n",
    "\n",
    "def isEmty(self):\n",
    "    if not self.queue :\n",
    "        print(\"queue is empty\")\n",
    "    else:\n",
    "        print(\"queue size is \", len(self.queue))\n",
    "        print(\"queue is:\", self.queue)\n",
    "\n",
    "obj1 =queue(5)\n",
    "\n",
    "\n",
    "    \n",
    "\n",
    "\n",
    "\n",
    "\n",
    "\n",
    "\n"
   ]
  },
  {
   "cell_type": "code",
   "execution_count": 13,
   "id": "ba478d46",
   "metadata": {},
   "outputs": [
    {
     "ename": "AttributeError",
     "evalue": "'queue' object has no attribute 'isFull'",
     "output_type": "error",
     "traceback": [
      "\u001b[1;31m---------------------------------------------------------------------------\u001b[0m",
      "\u001b[1;31mAttributeError\u001b[0m                            Traceback (most recent call last)",
      "Cell \u001b[1;32mIn[13], line 1\u001b[0m\n\u001b[1;32m----> 1\u001b[0m obj1\u001b[38;5;241m.\u001b[39misFull()\n",
      "\u001b[1;31mAttributeError\u001b[0m: 'queue' object has no attribute 'isFull'"
     ]
    }
   ],
   "source": [
    "obj1.isFull()"
   ]
  },
  {
   "cell_type": "code",
   "execution_count": null,
   "id": "7c3353ac",
   "metadata": {},
   "outputs": [],
   "source": []
  }
 ],
 "metadata": {
  "kernelspec": {
   "display_name": "base",
   "language": "python",
   "name": "python3"
  },
  "language_info": {
   "codemirror_mode": {
    "name": "ipython",
    "version": 3
   },
   "file_extension": ".py",
   "mimetype": "text/x-python",
   "name": "python",
   "nbconvert_exporter": "python",
   "pygments_lexer": "ipython3",
   "version": "3.12.4"
  }
 },
 "nbformat": 4,
 "nbformat_minor": 5
}

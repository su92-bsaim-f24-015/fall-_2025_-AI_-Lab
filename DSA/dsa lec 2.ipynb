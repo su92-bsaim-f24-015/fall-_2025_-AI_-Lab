{
 "cells": [
  {
   "cell_type": "code",
   "execution_count": 5,
   "id": "e2ce3966",
   "metadata": {},
   "outputs": [],
   "source": [
    "class stack:\n",
    "    def __init__(self,total_value):\n",
    "        self.stack = []\n",
    "        print(\"stack is :\" , self.stack)\n",
    "        self.limit =total_value\n",
    "        print(\"limit is \" , self.limit)\n",
    "\n",
    "    def push (self):\n",
    "        if len(self.stack) ==self.limit:\n",
    "            print(\"stack is already full\")\n",
    "        else:\n",
    "            for i in range (self.limit- len(self.stack)):\n",
    "                e = input(\"enter the value for stack:\")\n",
    "                self .stack.append(e)\n",
    "                print(\"updated stack\" , self.stack)\n",
    "\n",
    "\n",
    "    def pop(self):\n",
    "        if not self.stack:\n",
    "            print ( \"stack is already empty \")\n",
    "        else:\n",
    "            f = self.stack.pop()\n",
    "            print(\"removed value is f\", f)\n",
    "            print(\"update value is \", self.stack)\n",
    "\n",
    "    def peak(self):\n",
    "        if not self.stack:\n",
    "            print(\"there is no peak value beceause stack is empty\")\n",
    "\n",
    "        else:\n",
    "            print(\"peak value is :\", self.stack[-1])\n",
    "\n",
    "    def isEmpty(self):\n",
    "        if not self.stack :\n",
    "            print(\"stack is empty\")\n",
    "        else:\n",
    "            print(\"Stack size is \", len(self.stack))\n",
    "            print(\"stack is:\", self.stack)\n",
    "\n",
    "    def isFull(self):\n",
    "        if len(self.stack)==self.limit:\n",
    "            print(\"stack is full\")\n",
    "        else:  \n",
    "             print(\"stack size\", len(self.stack)) \n",
    "\n",
    "    def sort(self):\n",
    "        if len(self.stack)>0:\n",
    "           print( \"Ascending order\",sorted(self.stack))\n",
    "           print(\"Desending Order\" , sorted(self.stack,reverse=True))\n",
    "    \n",
    "        \n",
    "\n",
    "        \n",
    "    "
   ]
  },
  {
   "cell_type": "code",
   "execution_count": 8,
   "id": "6faa2f67",
   "metadata": {},
   "outputs": [
    {
     "name": "stdout",
     "output_type": "stream",
     "text": [
      "stack is : []\n",
      "limit is  6\n"
     ]
    }
   ],
   "source": [
    "obj1 = stack(6)"
   ]
  },
  {
   "cell_type": "code",
   "execution_count": 9,
   "id": "fb52b62f",
   "metadata": {},
   "outputs": [
    {
     "name": "stdout",
     "output_type": "stream",
     "text": [
      "please select any operation: \n",
      "1-push\n",
      "2-pop\n",
      "3-sort\n",
      "4-peak or tap value\n",
      "5-isEmpty\n",
      "6-isFull\n",
      "7-exist\n",
      "updated stack ['1']\n",
      "updated stack ['1', '1']\n",
      "updated stack ['1', '1', '7']\n",
      "updated stack ['1', '1', '7', '7']\n",
      "updated stack ['1', '1', '7', '7', '23']\n",
      "updated stack ['1', '1', '7', '7', '23', '23']\n",
      "please select any operation: \n",
      "1-push\n",
      "2-pop\n",
      "3-sort\n",
      "4-peak or tap value\n",
      "5-isEmpty\n",
      "6-isFull\n",
      "7-exist\n",
      "Stack size is  6\n",
      "stack is: ['1', '1', '7', '7', '23', '23']\n",
      "please select any operation: \n",
      "1-push\n",
      "2-pop\n",
      "3-sort\n",
      "4-peak or tap value\n",
      "5-isEmpty\n",
      "6-isFull\n",
      "7-exist\n"
     ]
    }
   ],
   "source": [
    "while True:\n",
    "    print(\"please select any operation: \")\n",
    "    print(\"1-push\")\n",
    "    print(\"2-pop\")\n",
    "    print(\"3-sort\")\n",
    "    print(\"4-peak or tap value\")\n",
    "    print(\"5-isEmpty\")\n",
    "    print(\"6-isFull\")\n",
    "    print(\"7-exist\")\n",
    "\n",
    "    choice = int(input(\"please select option\"))\n",
    "    if choice == 1:\n",
    "        obj1.push()\n",
    "    elif choice == 2:\n",
    "        obj1.pop()\n",
    "    elif choice ==3:\n",
    "        obj1.sort()\n",
    "    elif choice ==4:\n",
    "        obj1.peak()\n",
    "    elif choice ==5:\n",
    "        obj1.isEmpty()\n",
    "    elif choice ==6:\n",
    "        obj1.isEmpty()\n",
    "    elif choice ==7:\n",
    "        break\n",
    "    else:\n",
    "        print(\"please select option from 1 to 7\")\n"
   ]
  },
  {
   "cell_type": "code",
   "execution_count": null,
   "id": "d8d62425",
   "metadata": {},
   "outputs": [],
   "source": []
  },
  {
   "cell_type": "code",
   "execution_count": null,
   "id": "8d9a9799",
   "metadata": {},
   "outputs": [],
   "source": []
  }
 ],
 "metadata": {
  "kernelspec": {
   "display_name": "base",
   "language": "python",
   "name": "python3"
  },
  "language_info": {
   "codemirror_mode": {
    "name": "ipython",
    "version": 3
   },
   "file_extension": ".py",
   "mimetype": "text/x-python",
   "name": "python",
   "nbconvert_exporter": "python",
   "pygments_lexer": "ipython3",
   "version": "3.12.4"
  }
 },
 "nbformat": 4,
 "nbformat_minor": 5
}

{
 "cells": [
  {
   "cell_type": "code",
   "execution_count": 13,
   "id": "b730fba5",
   "metadata": {},
   "outputs": [
    {
     "name": "stdout",
     "output_type": "stream",
     "text": [
      "living Room16 => <bound method simplereflexAgent.performance of <__main__.simplereflexAgent object at 0x000002392BA9A5A0>>\n",
      "Drawing Room16 => <bound method simplereflexAgent.performance of <__main__.simplereflexAgent object at 0x000002392BA9A5A0>>\n",
      "16 22\n"
     ]
    }
   ],
   "source": [
    "class simplereflexAgent:\n",
    "    def __init__(self,temp):\n",
    "         self.fixed_temp =temp\n",
    "    def sensor(self,temp):\n",
    "         self.current_temp=temp\n",
    "    def performance(self):\n",
    "        action =None\n",
    "        if self.current_temp>self.fixed_temp:\n",
    "         action =\"turn on the ac\"\n",
    "        else:\n",
    "            action =\"turn off the ac\"\n",
    "\n",
    "    def actuator(self):\n",
    "        action =self.performance\n",
    "        print(self.fixed_temp,\"=>\",action)\n",
    "\n",
    "rooms = {\n",
    "    \"living Room\":20,\n",
    "    \"Drawing Room\":22\n",
    "}\n",
    "\n",
    "\n",
    "           \n",
    "\n",
    "        \n",
    "    \n",
    "agent=simplereflexAgent(16)\n",
    "for room, temp in rooms.items():\n",
    "    print(room,end=\"\")\n",
    "    agent.sensor(temp)\n",
    "    agent.actuator()\n",
    "print(agent.fixed_temp,agent.current_temp)"
   ]
  },
  {
   "cell_type": "code",
   "execution_count": null,
   "id": "ad50cfcc",
   "metadata": {},
   "outputs": [],
   "source": []
  }
 ],
 "metadata": {
  "kernelspec": {
   "display_name": "base",
   "language": "python",
   "name": "python3"
  },
  "language_info": {
   "codemirror_mode": {
    "name": "ipython",
    "version": 3
   },
   "file_extension": ".py",
   "mimetype": "text/x-python",
   "name": "python",
   "nbconvert_exporter": "python",
   "pygments_lexer": "ipython3",
   "version": "3.12.4"
  }
 },
 "nbformat": 4,
 "nbformat_minor": 5
}

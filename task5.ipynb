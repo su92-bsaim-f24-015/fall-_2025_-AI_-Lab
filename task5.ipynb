{
 "cells": [
  {
   "cell_type": "code",
   "execution_count": 3,
   "id": "05380c7a",
   "metadata": {},
   "outputs": [
    {
     "name": "stdout",
     "output_type": "stream",
     "text": [
      "A\n",
      "B\n",
      "D\n",
      "E\n",
      "F\n",
      "C\n"
     ]
    }
   ],
   "source": [
    "graph_data = {\n",
    "    'A': ['B', 'C'],\n",
    "    'B': ['D', 'E'],\n",
    "    'C': [],\n",
    "    'D': [],\n",
    "    'E': ['F'],\n",
    "    'F': []\n",
    "}\n",
    "\n",
    "def depth_first_search(node):\n",
    "    seen = set()\n",
    "    stack_nodes = [node]\n",
    "\n",
    "    while stack_nodes:\n",
    "        current = stack_nodes.pop()\n",
    "        if current not in seen:\n",
    "            print(current)\n",
    "            seen.add(current)\n",
    "            \n",
    "            stack_nodes += graph_data[current][::-1]\n",
    "\n",
    "depth_first_search('A')\n"
   ]
  },
  {
   "cell_type": "markdown",
   "id": "17776f31",
   "metadata": {},
   "source": [
    "# BFS without Queue"
   ]
  },
  {
   "cell_type": "code",
   "execution_count": 4,
   "id": "c2d751b5",
   "metadata": {},
   "outputs": [
    {
     "name": "stdout",
     "output_type": "stream",
     "text": [
      "A\n",
      "B\n",
      "D\n",
      "E\n",
      "F\n",
      "C\n"
     ]
    }
   ],
   "source": [
    "graph_data = {\n",
    "    'A': ['B', 'C'],\n",
    "    'B': ['D', 'E'],\n",
    "    'C': [],\n",
    "    'D': [],\n",
    "    'E': ['F'],\n",
    "    'F': []\n",
    "}\n",
    "\n",
    "def depth_first_search(start):\n",
    "    visited_nodes = []\n",
    "    pending = [start]\n",
    "\n",
    "    while pending:\n",
    "        node = pending[-1]      # last element ko dekho\n",
    "        pending.pop()           # usse hata do\n",
    "\n",
    "        if node not in visited_nodes:\n",
    "            print(node)\n",
    "            visited_nodes.append(node)\n",
    "\n",
    "            children = list(reversed(graph_data[node]))\n",
    "            for child in children:\n",
    "                if child not in visited_nodes:\n",
    "                    pending.append(child)\n",
    "\n",
    "depth_first_search('A')\n"
   ]
  },
  {
   "cell_type": "markdown",
   "id": "8432a98a",
   "metadata": {},
   "source": [
    "# BFS with Queue "
   ]
  },
  {
   "cell_type": "code",
   "execution_count": 2,
   "id": "ad313be7",
   "metadata": {},
   "outputs": [
    {
     "name": "stdout",
     "output_type": "stream",
     "text": [
      "A\n",
      "B\n",
      "C\n",
      "D\n",
      "E\n",
      "F\n",
      "F\n"
     ]
    }
   ],
   "source": [
    "def recursive_bfs(graph_map, frontier):\n",
    "    if len(frontier) == 0:\n",
    "        return\n",
    "    \n",
    "    upcoming = []\n",
    "    for vertex in frontier:\n",
    "        print(vertex)\n",
    "        for adj in graph_map[vertex]:\n",
    "            upcoming += [adj]\n",
    "    \n",
    "    recursive_bfs(graph_map, upcoming)\n",
    "\n",
    "\n",
    "network = {\n",
    "    'A': ['B', 'C'],\n",
    "    'B': ['D', 'E'],\n",
    "    'C': ['F'],\n",
    "    'D': [],\n",
    "    'E': ['F'],\n",
    "    'F': []\n",
    "}\n",
    "\n",
    "recursive_bfs(network, ['A'])\n"
   ]
  }
 ],
 "metadata": {
  "kernelspec": {
   "display_name": "base",
   "language": "python",
   "name": "python3"
  },
  "language_info": {
   "codemirror_mode": {
    "name": "ipython",
    "version": 3
   },
   "file_extension": ".py",
   "mimetype": "text/x-python",
   "name": "python",
   "nbconvert_exporter": "python",
   "pygments_lexer": "ipython3",
   "version": "3.12.4"
  }
 },
 "nbformat": 4,
 "nbformat_minor": 5
}

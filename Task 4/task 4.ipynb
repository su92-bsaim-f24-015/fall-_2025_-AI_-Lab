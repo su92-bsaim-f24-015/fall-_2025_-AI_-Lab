{
 "cells": [
  {
   "cell_type": "code",
   "execution_count": 4,
   "id": "e1d09fb8",
   "metadata": {},
   "outputs": [
    {
     "name": "stdout",
     "output_type": "stream",
     "text": [
      "True\n"
     ]
    }
   ],
   "source": [
    "def atm_card_chck(card_no):\n",
    "    \n",
    "    digits = [int(d) for d in card_no[:-1]]  \n",
    "    chck_digit = int(card_no[-1])  \n",
    "\n",
    "    \n",
    "    digits = digits[::-1]\n",
    "\n",
    "    \n",
    "    for i in range(len(digits)):\n",
    "        if i % 2 == 0:  \n",
    "            digits[i] *= 2\n",
    "            if digits[i] > 9:\n",
    "                digits[i] -= 9\n",
    "    total_sum = sum(digits)\n",
    "    total_sum += chck_digit\n",
    "    if total_sum % 10 == 0:\n",
    "        return True\n",
    "    else:\n",
    "        return False\n",
    "cd_number = \"4649516101066276\" \n",
    "print(atm_card_chck(cd_number)) "
   ]
  },
  {
   "cell_type": "code",
   "execution_count": 2,
   "id": "bbd56164",
   "metadata": {},
   "outputs": [
    {
     "name": "stdout",
     "output_type": "stream",
     "text": [
      "Kuch Bhi Kuch Bhi\n"
     ]
    }
   ],
   "source": [
    "def remove_special_chars(text):\n",
    "    \n",
    "    clean_text = ''.join(ch for ch in text if ch.isalnum() or ch.isspace())\n",
    "    return clean_text\n",
    "\n",
    "s = \"Kuch, Bhi; Kuch? Bhi!\"\n",
    "clean = remove_special_chars(s)\n",
    "print(clean)"
   ]
  },
  {
   "cell_type": "code",
   "execution_count": 3,
   "id": "1b049a97",
   "metadata": {},
   "outputs": [
    {
     "name": "stdout",
     "output_type": "stream",
     "text": [
      "Sorted string by ASCII using Bubble Sort:   aaiimmqs\n"
     ]
    }
   ],
   "source": [
    "def bubble_sort_ascii(text):\n",
    "    \n",
    "    chars = list(text)\n",
    "    n = len(chars)\n",
    "\n",
    "    \n",
    "    for i in range(n - 1):\n",
    "        for j in range(n - i - 1):\n",
    "            if ord(chars[j]) > ord(chars[j + 1]):\n",
    "                chars[j], chars[j + 1] = chars[j + 1], chars[j]\n",
    "\n",
    "    \n",
    "    return \"\".join(chars)\n",
    "\n",
    "\n",
    "user_text = input(\"Enter a string: \")\n",
    "sorted_text = bubble_sort_ascii(user_text)\n",
    "print(\"Sorted string by ASCII using Bubble Sort:\", sorted_text)"
   ]
  },
  {
   "cell_type": "code",
   "execution_count": null,
   "id": "3f9dd842",
   "metadata": {},
   "outputs": [],
   "source": []
  }
 ],
 "metadata": {
  "kernelspec": {
   "display_name": "base",
   "language": "python",
   "name": "python3"
  },
  "language_info": {
   "codemirror_mode": {
    "name": "ipython",
    "version": 3
   },
   "file_extension": ".py",
   "mimetype": "text/x-python",
   "name": "python",
   "nbconvert_exporter": "python",
   "pygments_lexer": "ipython3",
   "version": "3.12.4"
  }
 },
 "nbformat": 4,
 "nbformat_minor": 5
}
